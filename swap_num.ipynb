{
 "cells": [
  {
   "cell_type": "code",
   "execution_count": 1,
   "id": "af0d991a",
   "metadata": {},
   "outputs": [
    {
     "name": "stdout",
     "output_type": "stream",
     "text": [
      "Enter 1st number:32\n",
      "Enter 2nd number:90\n",
      "Swapping of numbers:\n",
      "Ist number=90 and 2nd number=32\n"
     ]
    }
   ],
   "source": [
    "#swapping of 2 numbers without using third variable\n",
    "def swap():\n",
    "    usrinp_1=input(\"Enter 1st number:\")\n",
    "    usrinp_2=input(\"Enter 2nd number:\")\n",
    "    # typecasting user input to int\n",
    "    num_1=int(usrinp_1)\n",
    "    num_2=int(usrinp_2)\n",
    "    # operations used add & sub to swap\n",
    "    num_1=num_1+num_2 #let a=3 b=2 and add i.e a=5\n",
    "    num_2=num_1-num_2 #now a=5 b=2 and sub 5-2=3 in b\n",
    "    num_1=num_1-num_2 #then a=5 b=3 and sub 5-3=2 in a\n",
    "    # swapped both a and b no's\n",
    "    print(\"Swapping of numbers:\")\n",
    "    print(f\"Ist number={num_1} and 2nd number={num_2}\")\n",
    "swap()"
   ]
  }
 ],
 "metadata": {
  "kernelspec": {
   "display_name": "Python 3 (ipykernel)",
   "language": "python",
   "name": "python3"
  },
  "language_info": {
   "codemirror_mode": {
    "name": "ipython",
    "version": 3
   },
   "file_extension": ".py",
   "mimetype": "text/x-python",
   "name": "python",
   "nbconvert_exporter": "python",
   "pygments_lexer": "ipython3",
   "version": "3.9.12"
  }
 },
 "nbformat": 4,
 "nbformat_minor": 5
}
