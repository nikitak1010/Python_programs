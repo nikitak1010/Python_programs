{
 "cells": [
  {
   "cell_type": "code",
   "execution_count": 1,
   "id": "fa4d249f",
   "metadata": {},
   "outputs": [
    {
     "name": "stdout",
     "output_type": "stream",
     "text": [
      "Enter a number:71\n",
      "71 is a prime no.\n"
     ]
    }
   ],
   "source": [
    "# checking prime no. or not\n",
    "def prime():\n",
    "    num=input(\"Enter a number:\")\n",
    "    num_t=int(num)\n",
    "    i=2\n",
    "    key=0\n",
    "    while i<num_t:\n",
    "        if num_t%i==0:\n",
    "            print(f\"{num_t} is not a prime no.\")\n",
    "            key=1\n",
    "            break\n",
    "        i=i+1    \n",
    "    if key==0:        \n",
    "        print(f\"{num_t} is a prime no.\")\n",
    "prime()"
   ]
  }
 ],
 "metadata": {
  "kernelspec": {
   "display_name": "Python 3 (ipykernel)",
   "language": "python",
   "name": "python3"
  },
  "language_info": {
   "codemirror_mode": {
    "name": "ipython",
    "version": 3
   },
   "file_extension": ".py",
   "mimetype": "text/x-python",
   "name": "python",
   "nbconvert_exporter": "python",
   "pygments_lexer": "ipython3",
   "version": "3.9.12"
  }
 },
 "nbformat": 4,
 "nbformat_minor": 5
}
