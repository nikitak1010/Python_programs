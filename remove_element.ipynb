{
 "cells": [
  {
   "cell_type": "code",
   "execution_count": 1,
   "id": "555f3cdb",
   "metadata": {},
   "outputs": [
    {
     "name": "stdout",
     "output_type": "stream",
     "text": [
      "Enter the numbers:2,3,5,2,4,7\n",
      "['2', '3', '5', '2', '4', '7']\n",
      "Enter value to removed2\n",
      "Elements in list= 4\n",
      "['', '3', '5', '', '4', '7']\n"
     ]
    }
   ],
   "source": [
    "def rem_ele():\n",
    "    my_str=input(\"Enter the numbers:\")\n",
    "    my_list=my_str.split(',')\n",
    "    print(my_list)\n",
    "    total=len(my_list)\n",
    "    val=input(\"Enter value to removed\")\n",
    "    count=0\n",
    "    for index,v in enumerate(my_list):\n",
    "        if val==v:\n",
    "            my_list[index]=\"\"\n",
    "            count=count+1\n",
    "    print(\"Elements in list=\",total-count)  \n",
    "    print(my_list)\n",
    "rem_ele()"
   ]
  }
 ],
 "metadata": {
  "kernelspec": {
   "display_name": "Python 3 (ipykernel)",
   "language": "python",
   "name": "python3"
  },
  "language_info": {
   "codemirror_mode": {
    "name": "ipython",
    "version": 3
   },
   "file_extension": ".py",
   "mimetype": "text/x-python",
   "name": "python",
   "nbconvert_exporter": "python",
   "pygments_lexer": "ipython3",
   "version": "3.9.12"
  }
 },
 "nbformat": 4,
 "nbformat_minor": 5
}
