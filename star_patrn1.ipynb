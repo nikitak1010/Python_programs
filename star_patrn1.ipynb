{
 "cells": [
  {
   "cell_type": "code",
   "execution_count": 13,
   "id": "cc7db0ca",
   "metadata": {},
   "outputs": [
    {
     "name": "stdout",
     "output_type": "stream",
     "text": [
      "Enter max no. of stars in rows or columns:4\n",
      " \n",
      "*  \n",
      "* *  \n",
      "* * *  \n",
      "* * * * "
     ]
    }
   ],
   "source": [
    "usr_inp=input(\"Enter max no. of stars in rows or columns:\")\n",
    "star=int(usr_inp)  #star=4\n",
    "for item in range(0,star): #item=4\n",
    "    print(\" \")\n",
    "    for st_ar in range(0,item+1):  #st_ar from 0 to item+1 \n",
    "        print(\"*\",end=\" \")"
   ]
  }
 ],
 "metadata": {
  "kernelspec": {
   "display_name": "Python 3 (ipykernel)",
   "language": "python",
   "name": "python3"
  },
  "language_info": {
   "codemirror_mode": {
    "name": "ipython",
    "version": 3
   },
   "file_extension": ".py",
   "mimetype": "text/x-python",
   "name": "python",
   "nbconvert_exporter": "python",
   "pygments_lexer": "ipython3",
   "version": "3.9.12"
  }
 },
 "nbformat": 4,
 "nbformat_minor": 5
}
