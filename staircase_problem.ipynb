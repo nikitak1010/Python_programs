{
 "cells": [
  {
   "cell_type": "code",
   "execution_count": 1,
   "id": "5d95a4ea",
   "metadata": {},
   "outputs": [
    {
     "name": "stdout",
     "output_type": "stream",
     "text": [
      "Enter no. of stairs to climb:5\n",
      "8 ways to climb\n"
     ]
    }
   ],
   "source": [
    "def stair_case():\n",
    "    stair_s=input(\"Enter no. of stairs to climb:\")\n",
    "    stairs=int(stair_s)\n",
    "    A=1\n",
    "    B=2\n",
    "    C=A+B\n",
    "    if stairs==0:\n",
    "        print(\"No way to climb\")\n",
    "    if stairs==1:\n",
    "        print(\"Only 1 way to climb\")\n",
    "    if stairs==2:\n",
    "        print(\"Two ways to climb\")\n",
    "    if stairs>=3:\n",
    "        for item in range(3,stairs+1):\n",
    "            if item==stairs:\n",
    "                print(f\"{C} ways to climb\")\n",
    "            else:\n",
    "                A=B\n",
    "                B=C\n",
    "                C=A+B\n",
    "stair_case()"
   ]
  }
 ],
 "metadata": {
  "kernelspec": {
   "display_name": "Python 3 (ipykernel)",
   "language": "python",
   "name": "python3"
  },
  "language_info": {
   "codemirror_mode": {
    "name": "ipython",
    "version": 3
   },
   "file_extension": ".py",
   "mimetype": "text/x-python",
   "name": "python",
   "nbconvert_exporter": "python",
   "pygments_lexer": "ipython3",
   "version": "3.9.12"
  }
 },
 "nbformat": 4,
 "nbformat_minor": 5
}
