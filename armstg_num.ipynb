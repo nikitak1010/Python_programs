{
 "cells": [
  {
   "cell_type": "code",
   "execution_count": 1,
   "id": "2d75e8e4",
   "metadata": {},
   "outputs": [
    {
     "name": "stdout",
     "output_type": "stream",
     "text": [
      "Enter a number:371\n",
      "371 is a armstrong no.\n"
     ]
    }
   ],
   "source": [
    "def armstrng():\n",
    "    num=input(\"Enter a number:\")\n",
    "    num_t=int(num)\n",
    "    num_c=num_t\n",
    "    arm_num=0\n",
    "    while num_t!=0:\n",
    "        mod=num_t%10\n",
    "        arm_num=arm_num+mod**3\n",
    "        div=int(num_t/10)\n",
    "        num_t=div\n",
    "    if(num_c==arm_num):\n",
    "        print(f\"{num_c} is a armstrong no.\")\n",
    "    else:\n",
    "        print(\"Not a armstrong no.\")\n",
    "armstrng()"
   ]
  },
  {
   "cell_type": "code",
   "execution_count": 2,
   "id": "c168b3df",
   "metadata": {},
   "outputs": [
    {
     "name": "stdout",
     "output_type": "stream",
     "text": [
      "Enter a number:153\n",
      "153 is a armstrong no.\n"
     ]
    }
   ],
   "source": [
    "class armstrong:\n",
    "    def __init__(self,num):\n",
    "        self.num=num\n",
    "    def check(self):\n",
    "        num_c=self.num\n",
    "        arm_num=0\n",
    "        while num_c!=0:\n",
    "            mod=num_c%10\n",
    "            arm_num=arm_num+mod**3\n",
    "            div=int(num_c/10)\n",
    "            num_c=div\n",
    "        if(self.num==arm_num):\n",
    "            print(f\"{self.num} is a armstrong no.\")\n",
    "        else:\n",
    "            print(\"Not a armstrong no.\")\n",
    "user_num=input(\"Enter a number:\")\n",
    "num=int(user_num)\n",
    "a1=armstrong(num)\n",
    "a1.check()"
   ]
  }
 ],
 "metadata": {
  "kernelspec": {
   "display_name": "Python 3 (ipykernel)",
   "language": "python",
   "name": "python3"
  },
  "language_info": {
   "codemirror_mode": {
    "name": "ipython",
    "version": 3
   },
   "file_extension": ".py",
   "mimetype": "text/x-python",
   "name": "python",
   "nbconvert_exporter": "python",
   "pygments_lexer": "ipython3",
   "version": "3.9.12"
  }
 },
 "nbformat": 4,
 "nbformat_minor": 5
}
