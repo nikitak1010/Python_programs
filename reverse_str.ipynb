{
 "cells": [
  {
   "cell_type": "code",
   "execution_count": 3,
   "id": "f6401329",
   "metadata": {},
   "outputs": [
    {
     "name": "stdout",
     "output_type": "stream",
     "text": [
      "Enter a string:Hello\n",
      "olleH\n"
     ]
    }
   ],
   "source": [
    "my_str=input(\"Enter a string:\")\n",
    "i=-1\n",
    "rev_str=\"\"\n",
    "for item in my_str:\n",
    "    rev_str=rev_str+my_str[i]\n",
    "    i=i-1\n",
    "print(rev_str)"
   ]
  },
  {
   "cell_type": "code",
   "execution_count": 1,
   "id": "321860b5",
   "metadata": {},
   "outputs": [
    {
     "name": "stdout",
     "output_type": "stream",
     "text": [
      "Enter a string:Hello World\n",
      "dlroW olleH\n"
     ]
    }
   ],
   "source": [
    "#without using indexing variable\n",
    "def reverse():\n",
    "    my_str=input(\"Enter a string:\")\n",
    "    rev_str=\"\"\n",
    "    for item in my_str:\n",
    "        rev_str=item+rev_str\n",
    "    print(rev_str)\n",
    "reverse()"
   ]
  }
 ],
 "metadata": {
  "kernelspec": {
   "display_name": "Python 3 (ipykernel)",
   "language": "python",
   "name": "python3"
  },
  "language_info": {
   "codemirror_mode": {
    "name": "ipython",
    "version": 3
   },
   "file_extension": ".py",
   "mimetype": "text/x-python",
   "name": "python",
   "nbconvert_exporter": "python",
   "pygments_lexer": "ipython3",
   "version": "3.9.12"
  }
 },
 "nbformat": 4,
 "nbformat_minor": 5
}
