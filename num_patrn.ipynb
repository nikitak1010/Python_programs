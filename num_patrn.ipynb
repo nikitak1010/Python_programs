{
 "cells": [
  {
   "cell_type": "code",
   "execution_count": 5,
   "id": "ddd66cf9",
   "metadata": {},
   "outputs": [
    {
     "name": "stdout",
     "output_type": "stream",
     "text": [
      "Enter max no. want to display5\n",
      " \n",
      "1 2 3 4 5  \n",
      "1 2 3 4  \n",
      "1 2 3  \n",
      "1 2  \n",
      "1 "
     ]
    }
   ],
   "source": [
    "usr_inp=input(\"Enter max no. want to display\")\n",
    "num=int(usr_inp)\n",
    "num_c=num\n",
    "for item in range(0,num):\n",
    "    i=1\n",
    "    print(\" \")\n",
    "    if item>0:\n",
    "        num_c=num_c-1\n",
    "    for nu_m in range(0,num_c):\n",
    "        print(i,end=\" \")\n",
    "        i=i+1"
   ]
  }
 ],
 "metadata": {
  "kernelspec": {
   "display_name": "Python 3 (ipykernel)",
   "language": "python",
   "name": "python3"
  },
  "language_info": {
   "codemirror_mode": {
    "name": "ipython",
    "version": 3
   },
   "file_extension": ".py",
   "mimetype": "text/x-python",
   "name": "python",
   "nbconvert_exporter": "python",
   "pygments_lexer": "ipython3",
   "version": "3.9.12"
  }
 },
 "nbformat": 4,
 "nbformat_minor": 5
}
