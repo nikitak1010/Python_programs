{
 "cells": [
  {
   "cell_type": "code",
   "execution_count": 44,
   "id": "c0208366",
   "metadata": {},
   "outputs": [
    {
     "name": "stdout",
     "output_type": "stream",
     "text": [
      "Enter value to be change:8\n",
      "Enter value to be change:9\n",
      "Enter value to be change:8\n",
      "[10, 20, 8, 40, 50, 9, 70, 80, 8]\n",
      "[(10, 20, 40), (40, 50, 60), (70, 80, 90)]\n"
     ]
    }
   ],
   "source": [
    "my_list=[(10,20,40),(40,50,60),(70,80,90)]\n",
    "lst=[]\n",
    "for i in my_list:\n",
    "    for x,val in enumerate(i):\n",
    "        if x==2:\n",
    "            num=input(\"Enter value to be change:\")\n",
    "            num_t=int(num)\n",
    "            my_lst=list(i)\n",
    "            my_lst.pop()\n",
    "            my_lst.append(num_t)\n",
    "            tup=tuple(my_lst)\n",
    "            lst=lst+my_lst\n",
    "print(lst)\n",
    "print(my_list)"
   ]
  },
  {
   "cell_type": "code",
   "execution_count": 33,
   "id": "41571202",
   "metadata": {},
   "outputs": [],
   "source": [
    "my_tup=(10,89,10)\n",
    "my_list=list(my_tup)\n",
    "num=9\n",
    "my_list.append(num)"
   ]
  },
  {
   "cell_type": "code",
   "execution_count": null,
   "id": "375a940c",
   "metadata": {},
   "outputs": [],
   "source": []
  }
 ],
 "metadata": {
  "kernelspec": {
   "display_name": "Python 3 (ipykernel)",
   "language": "python",
   "name": "python3"
  },
  "language_info": {
   "codemirror_mode": {
    "name": "ipython",
    "version": 3
   },
   "file_extension": ".py",
   "mimetype": "text/x-python",
   "name": "python",
   "nbconvert_exporter": "python",
   "pygments_lexer": "ipython3",
   "version": "3.9.12"
  }
 },
 "nbformat": 4,
 "nbformat_minor": 5
}
