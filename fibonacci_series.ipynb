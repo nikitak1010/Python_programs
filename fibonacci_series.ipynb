{
 "cells": [
  {
   "cell_type": "code",
   "execution_count": 1,
   "id": "b13a4176",
   "metadata": {},
   "outputs": [
    {
     "name": "stdout",
     "output_type": "stream",
     "text": [
      "Enter a number:10\n",
      "0\n",
      "1\n",
      "1\n",
      "2\n",
      "3\n",
      "5\n",
      "8\n",
      "13\n",
      "21\n",
      "34\n"
     ]
    }
   ],
   "source": [
    "# printing fibonacci series\n",
    "def fibo():\n",
    "    num=input(\"Enter a number:\")\n",
    "    num_t=int(num)\n",
    "    ist_num=0\n",
    "    scnd_num=1\n",
    "    thrd_num=1\n",
    "    # checking how many numbers user want\n",
    "    if num_t>=1:     \n",
    "        print(ist_num)\n",
    "    if num_t>=2:\n",
    "        print(scnd_num)\n",
    "    if num_t>=3:\n",
    "        for item in range(3,num_t+1):\n",
    "            print(thrd_num)\n",
    "            ist_num=scnd_num\n",
    "            scnd_num=thrd_num\n",
    "            thrd_num=ist_num+scnd_num\n",
    "fibo()"
   ]
  }
 ],
 "metadata": {
  "kernelspec": {
   "display_name": "Python 3 (ipykernel)",
   "language": "python",
   "name": "python3"
  },
  "language_info": {
   "codemirror_mode": {
    "name": "ipython",
    "version": 3
   },
   "file_extension": ".py",
   "mimetype": "text/x-python",
   "name": "python",
   "nbconvert_exporter": "python",
   "pygments_lexer": "ipython3",
   "version": "3.9.12"
  }
 },
 "nbformat": 4,
 "nbformat_minor": 5
}
