{
 "cells": [
  {
   "cell_type": "code",
   "execution_count": 5,
   "id": "7773f651",
   "metadata": {},
   "outputs": [
    {
     "name": "stdout",
     "output_type": "stream",
     "text": [
      "Enter string:p1y23thon\n",
      "python123\n"
     ]
    }
   ],
   "source": [
    "def sep_num():\n",
    "    my_str1=input(\"Enter string:\")\n",
    "    n_str1=\"\"\n",
    "    n_str2=\"\"\n",
    "    for item in my_str1:   \n",
    "        if item.isalpha():\n",
    "            n_str1=n_str1+item\n",
    "        elif item.isdigit():\n",
    "            n_str2=n_str2+item\n",
    "    print(n_str1+n_str2)     \n",
    "sep_num()"
   ]
  }
 ],
 "metadata": {
  "kernelspec": {
   "display_name": "Python 3 (ipykernel)",
   "language": "python",
   "name": "python3"
  },
  "language_info": {
   "codemirror_mode": {
    "name": "ipython",
    "version": 3
   },
   "file_extension": ".py",
   "mimetype": "text/x-python",
   "name": "python",
   "nbconvert_exporter": "python",
   "pygments_lexer": "ipython3",
   "version": "3.9.12"
  }
 },
 "nbformat": 4,
 "nbformat_minor": 5
}
