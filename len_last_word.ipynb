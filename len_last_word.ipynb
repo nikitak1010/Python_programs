{
 "cells": [
  {
   "cell_type": "code",
   "execution_count": 1,
   "id": "c067c2a8",
   "metadata": {},
   "outputs": [
    {
     "name": "stdout",
     "output_type": "stream",
     "text": [
      "Enter a string:  fly me to moon   \n",
      "Length of last word= 4\n"
     ]
    }
   ],
   "source": [
    "def len_word():\n",
    "    my_str=input(\"Enter a string:\")\n",
    "    strip_str=my_str.strip()\n",
    "    rev_str=strip_str[::-1]\n",
    "    count=0\n",
    "    for item in rev_str:\n",
    "        if item==' ':\n",
    "            break\n",
    "        else:\n",
    "            count=count+1\n",
    "    print(\"Length of last word=\",count)\n",
    "len_word()"
   ]
  }
 ],
 "metadata": {
  "kernelspec": {
   "display_name": "Python 3 (ipykernel)",
   "language": "python",
   "name": "python3"
  },
  "language_info": {
   "codemirror_mode": {
    "name": "ipython",
    "version": 3
   },
   "file_extension": ".py",
   "mimetype": "text/x-python",
   "name": "python",
   "nbconvert_exporter": "python",
   "pygments_lexer": "ipython3",
   "version": "3.9.12"
  }
 },
 "nbformat": 4,
 "nbformat_minor": 5
}
