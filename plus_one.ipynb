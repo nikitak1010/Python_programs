{
 "cells": [
  {
   "cell_type": "code",
   "execution_count": 2,
   "id": "56a85951",
   "metadata": {},
   "outputs": [
    {
     "name": "stdout",
     "output_type": "stream",
     "text": [
      "Enter the digits:2,3,4,9,3,2\n",
      "['2', '3', '4', '10', '3', '2']\n"
     ]
    }
   ],
   "source": [
    "def plusone():\n",
    "    my_str=input(\"Enter the digits:\")\n",
    "    my_list=my_str.split(',')\n",
    "    copy_list=my_list.copy()\n",
    "    my_list.sort(reverse=True)\n",
    "    grt=my_list[0]\n",
    "    index=copy_list.index(grt)\n",
    "    val=int(grt)+1\n",
    "    copy_list[index]=str(val)\n",
    "    print(copy_list)\n",
    "plusone()"
   ]
  },
  {
   "cell_type": "code",
   "execution_count": null,
   "id": "ff41bbfb",
   "metadata": {},
   "outputs": [],
   "source": []
  }
 ],
 "metadata": {
  "kernelspec": {
   "display_name": "Python 3 (ipykernel)",
   "language": "python",
   "name": "python3"
  },
  "language_info": {
   "codemirror_mode": {
    "name": "ipython",
    "version": 3
   },
   "file_extension": ".py",
   "mimetype": "text/x-python",
   "name": "python",
   "nbconvert_exporter": "python",
   "pygments_lexer": "ipython3",
   "version": "3.9.12"
  }
 },
 "nbformat": 4,
 "nbformat_minor": 5
}
