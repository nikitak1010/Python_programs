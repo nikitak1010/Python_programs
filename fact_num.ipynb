{
 "cells": [
  {
   "cell_type": "code",
   "execution_count": 1,
   "id": "6c286510",
   "metadata": {},
   "outputs": [
    {
     "name": "stdout",
     "output_type": "stream",
     "text": [
      "Enter a number:7\n",
      "Factorial of a 7 is 5040\n"
     ]
    }
   ],
   "source": [
    "#factorial of a number\n",
    "def factorial():\n",
    "    num=input(\"Enter a number:\")\n",
    "    fact=int(num) #typecasting from string to int\n",
    "    fact_c=fact   #copy a number value to another variable\n",
    "    i=1\n",
    "    while i<fact_c:\n",
    "        fact=fact*i\n",
    "        i=i+1\n",
    "    print(f\"Factorial of a {num} is {fact}\")\n",
    "factorial()"
   ]
  }
 ],
 "metadata": {
  "kernelspec": {
   "display_name": "Python 3 (ipykernel)",
   "language": "python",
   "name": "python3"
  },
  "language_info": {
   "codemirror_mode": {
    "name": "ipython",
    "version": 3
   },
   "file_extension": ".py",
   "mimetype": "text/x-python",
   "name": "python",
   "nbconvert_exporter": "python",
   "pygments_lexer": "ipython3",
   "version": "3.9.12"
  }
 },
 "nbformat": 4,
 "nbformat_minor": 5
}
