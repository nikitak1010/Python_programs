{
 "cells": [
  {
   "cell_type": "code",
   "execution_count": 1,
   "id": "31949dbb",
   "metadata": {},
   "outputs": [
    {
     "name": "stdout",
     "output_type": "stream",
     "text": [
      "Enter a string:hello\n",
      "oolllleehh\n"
     ]
    }
   ],
   "source": [
    "def double():\n",
    "    my_str=input(\"Enter a string:\")\n",
    "    revd_str=\"\"\n",
    "    for item in my_str:\n",
    "        revd_str=item+revd_str\n",
    "        revd_str=item+revd_str\n",
    "    print(revd_str)\n",
    "double()"
   ]
  }
 ],
 "metadata": {
  "kernelspec": {
   "display_name": "Python 3 (ipykernel)",
   "language": "python",
   "name": "python3"
  },
  "language_info": {
   "codemirror_mode": {
    "name": "ipython",
    "version": 3
   },
   "file_extension": ".py",
   "mimetype": "text/x-python",
   "name": "python",
   "nbconvert_exporter": "python",
   "pygments_lexer": "ipython3",
   "version": "3.9.12"
  }
 },
 "nbformat": 4,
 "nbformat_minor": 5
}
