{
 "cells": [
  {
   "cell_type": "code",
   "execution_count": 1,
   "id": "7e42f945",
   "metadata": {},
   "outputs": [
    {
     "name": "stdout",
     "output_type": "stream",
     "text": [
      "********* WELCOME *********\n",
      "Choose the operation you want to perform:\n",
      "1:TO ADD\n",
      "2:TO SUBTRACT\n",
      "3:TO MULTIPLY\n",
      "4:TO DIVIDE\n",
      "5:TO EXIT\n",
      "Enter your choice:2\n",
      "Enter 1st no:13\n",
      "Enter 2nd no:2\n",
      "11\n",
      "Enter your choice:5\n",
      "Exit...\n"
     ]
    }
   ],
   "source": [
    "def calculator():\n",
    "    print(\"********* WELCOME *********\")\n",
    "    print(\"Choose the operation you want to perform:\")\n",
    "    print(\"1:TO ADD\")\n",
    "    print(\"2:TO SUBTRACT\")\n",
    "    print(\"3:TO MULTIPLY\")\n",
    "    print(\"4:TO DIVIDE\")\n",
    "    print(\"5:TO EXIT\")\n",
    "    usr_oper=input(\"Enter your choice:\")\n",
    "    opr=int(usr_oper)\n",
    "    while 1<=opr and opr<5:\n",
    "        num_1=input(\"Enter 1st no:\")\n",
    "        num_2=input(\"Enter 2nd no:\")\n",
    "        num1=int(num_1)\n",
    "        num2=int(num_2)\n",
    "        #addition\n",
    "        if opr==1:\n",
    "            print(num1+num2)\n",
    "        #subtraction\n",
    "        elif opr==2:\n",
    "            print(num1-num2)\n",
    "        #multiply\n",
    "        elif opr==3:\n",
    "            print(num1*num2)\n",
    "        #divide\n",
    "        else:\n",
    "            print(num1/num2)\n",
    "        usr_oper=input(\"Enter your choice:\")\n",
    "        opr=int(usr_oper)\n",
    "    if opr==5:\n",
    "        print(\"Exit...\")\n",
    "    else:\n",
    "        print(\"Wrong Choice\")\n",
    "calculator()"
   ]
  },
  {
   "cell_type": "code",
   "execution_count": 2,
   "id": "95144569",
   "metadata": {},
   "outputs": [
    {
     "name": "stdout",
     "output_type": "stream",
     "text": [
      "********* WELCOME *********\n",
      "Choose the operation you want to perform:\n",
      "1:TO ADD\n",
      "2:TO SUBTRACT\n",
      "3:TO MULTIPLY\n",
      "4:TO DIVIDE\n",
      "5:TO EXIT\n",
      "Enter your choice:1\n",
      "Enter 1st no:4\n",
      "Enter 2nd no:8\n",
      "12\n",
      "Enter your choice:5\n",
      "Exit...\n"
     ]
    }
   ],
   "source": [
    "class calculate:\n",
    "    def calculator(self):\n",
    "        print(\"********* WELCOME *********\")\n",
    "        print(\"Choose the operation you want to perform:\")\n",
    "        print(\"1:TO ADD\")\n",
    "        print(\"2:TO SUBTRACT\")\n",
    "        print(\"3:TO MULTIPLY\")\n",
    "        print(\"4:TO DIVIDE\")\n",
    "        print(\"5:TO EXIT\")\n",
    "        usr_oper=input(\"Enter your choice:\")\n",
    "        opr=int(usr_oper)\n",
    "        while 1<=opr and opr<5:\n",
    "            num_1=input(\"Enter 1st no:\")\n",
    "            num_2=input(\"Enter 2nd no:\")\n",
    "            num1=int(num_1)\n",
    "            num2=int(num_2)\n",
    "            #addition\n",
    "            if opr==1:\n",
    "                print(num1+num2)\n",
    "            #subtraction\n",
    "            elif opr==2:\n",
    "                print(num1-num2)\n",
    "            #multiply\n",
    "            elif opr==3:\n",
    "                print(num1*num2)\n",
    "            #divide\n",
    "            else:\n",
    "                print(num1/num2)\n",
    "            usr_oper=input(\"Enter your choice:\")\n",
    "            opr=int(usr_oper)\n",
    "        if opr==5:\n",
    "            print(\"Exit...\")\n",
    "        else:\n",
    "            print(\"Wrong Choice\")\n",
    "c1=calculate()\n",
    "c1.calculator()"
   ]
  }
 ],
 "metadata": {
  "kernelspec": {
   "display_name": "Python 3 (ipykernel)",
   "language": "python",
   "name": "python3"
  },
  "language_info": {
   "codemirror_mode": {
    "name": "ipython",
    "version": 3
   },
   "file_extension": ".py",
   "mimetype": "text/x-python",
   "name": "python",
   "nbconvert_exporter": "python",
   "pygments_lexer": "ipython3",
   "version": "3.9.12"
  }
 },
 "nbformat": 4,
 "nbformat_minor": 5
}
