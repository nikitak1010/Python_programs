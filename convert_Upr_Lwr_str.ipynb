{
 "cells": [
  {
   "cell_type": "code",
   "execution_count": 1,
   "id": "6ba708ec",
   "metadata": {},
   "outputs": [
    {
     "name": "stdout",
     "output_type": "stream",
     "text": [
      "Enter a string:HeLLo\n",
      "hEllO\n"
     ]
    }
   ],
   "source": [
    "def convertor():\n",
    "    my_str=input(\"Enter a string:\")\n",
    "    new_str=\"\"\n",
    "    for item in my_str:\n",
    "        if item.isupper():\n",
    "            new_str=new_str+item.lower()\n",
    "        elif item.islower():\n",
    "            new_str=new_str+item.upper()\n",
    "        else:\n",
    "            new_str=new_str+item\n",
    "    print(new_str)\n",
    "convertor()"
   ]
  },
  {
   "cell_type": "code",
   "execution_count": 1,
   "id": "263e5232",
   "metadata": {},
   "outputs": [
    {
     "name": "stdout",
     "output_type": "stream",
     "text": [
      "Enter a string:HeLlO\n",
      "hElLo\n"
     ]
    }
   ],
   "source": [
    "class convert:\n",
    "    def convertor(self,string):\n",
    "        self.string=string\n",
    "        new_str=\"\"\n",
    "        for item in self.string:\n",
    "            if item.isupper():\n",
    "                new_str=new_str+item.lower()\n",
    "            elif item.islower():\n",
    "                new_str=new_str+item.upper()\n",
    "            else:\n",
    "                new_str=new_str+item\n",
    "        print(new_str)\n",
    "my_str=input(\"Enter a string:\")\n",
    "obj1=convert()\n",
    "obj1.convertor(my_str)"
   ]
  }
 ],
 "metadata": {
  "kernelspec": {
   "display_name": "Python 3 (ipykernel)",
   "language": "python",
   "name": "python3"
  },
  "language_info": {
   "codemirror_mode": {
    "name": "ipython",
    "version": 3
   },
   "file_extension": ".py",
   "mimetype": "text/x-python",
   "name": "python",
   "nbconvert_exporter": "python",
   "pygments_lexer": "ipython3",
   "version": "3.9.12"
  }
 },
 "nbformat": 4,
 "nbformat_minor": 5
}
