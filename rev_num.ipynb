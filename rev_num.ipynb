{
 "cells": [
  {
   "cell_type": "code",
   "execution_count": 1,
   "id": "aaaca3d0",
   "metadata": {},
   "outputs": [
    {
     "name": "stdout",
     "output_type": "stream",
     "text": [
      "Enter a number:987654321\n",
      "Reverse of a 987654321 is 123456789\n"
     ]
    }
   ],
   "source": [
    "#reverse of number\n",
    "def reverse():\n",
    "    num=input(\"Enter a number:\")\n",
    "    num_t=int(num)\n",
    "    rev=0 \n",
    "    while num_t!=0:\n",
    "        mod=num_t%10\n",
    "        rev=rev*10+mod\n",
    "        div=int(num_t/10)  #TYCASTING IF NOT DIV TAKE FLOAT VALUE\n",
    "        num_t=div\n",
    "    print(f\"Reverse of a {num} is {rev}\")    \n",
    "reverse()"
   ]
  }
 ],
 "metadata": {
  "kernelspec": {
   "display_name": "Python 3 (ipykernel)",
   "language": "python",
   "name": "python3"
  },
  "language_info": {
   "codemirror_mode": {
    "name": "ipython",
    "version": 3
   },
   "file_extension": ".py",
   "mimetype": "text/x-python",
   "name": "python",
   "nbconvert_exporter": "python",
   "pygments_lexer": "ipython3",
   "version": "3.9.12"
  }
 },
 "nbformat": 4,
 "nbformat_minor": 5
}
