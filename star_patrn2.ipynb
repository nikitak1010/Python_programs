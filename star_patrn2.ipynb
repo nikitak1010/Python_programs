{
 "cells": [
  {
   "cell_type": "code",
   "execution_count": 7,
   "id": "6675035c",
   "metadata": {},
   "outputs": [
    {
     "name": "stdout",
     "output_type": "stream",
     "text": [
      "Enter max no. of stars in rows or columns:5\n",
      " \n",
      "* * * * *  \n",
      "* * * *  \n",
      "* * *  \n",
      "* *  \n",
      "* "
     ]
    }
   ],
   "source": [
    "usr_inp=input(\"Enter max no. of stars in rows or columns:\")\n",
    "star=int(usr_inp)\n",
    "star_c=star  #copy star no. in star_c\n",
    "for item in range(0,star):\n",
    "    print(\" \")\n",
    "    if item>0:\n",
    "        star_c=star_c-1\n",
    "    for st_ar in range(0,star_c):\n",
    "        print(\"*\",end=\" \")\n",
    "        "
   ]
  }
 ],
 "metadata": {
  "kernelspec": {
   "display_name": "Python 3 (ipykernel)",
   "language": "python",
   "name": "python3"
  },
  "language_info": {
   "codemirror_mode": {
    "name": "ipython",
    "version": 3
   },
   "file_extension": ".py",
   "mimetype": "text/x-python",
   "name": "python",
   "nbconvert_exporter": "python",
   "pygments_lexer": "ipython3",
   "version": "3.9.12"
  }
 },
 "nbformat": 4,
 "nbformat_minor": 5
}
