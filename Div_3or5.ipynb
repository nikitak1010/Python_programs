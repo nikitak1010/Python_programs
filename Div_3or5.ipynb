{
 "cells": [
  {
   "cell_type": "code",
   "execution_count": 2,
   "id": "da2a16c0",
   "metadata": {},
   "outputs": [
    {
     "name": "stdout",
     "output_type": "stream",
     "text": [
      "Enter a number:25\n",
      "25 is divisible by 5\n"
     ]
    }
   ],
   "source": [
    "#divisible by 3 or 5\n",
    "def divisibility():\n",
    "    num_br=input(\"Enter a number:\")\n",
    "    num=int(num_br)  #typecasting as input take datatype as string \n",
    "    if num%3==0 and num%5==0:\n",
    "        print(f\"{num} is divisible by 3 and 5\")\n",
    "    elif num%3==0:\n",
    "        print(f\"{num} is divisible by 3\")\n",
    "    elif num%5==0:\n",
    "        print(f\"{num} is divisible by 5\")\n",
    "    else:\n",
    "        print(f\"{num} is not divisible by 3 or 5\")\n",
    "divisibility()"
   ]
  }
 ],
 "metadata": {
  "kernelspec": {
   "display_name": "Python 3 (ipykernel)",
   "language": "python",
   "name": "python3"
  },
  "language_info": {
   "codemirror_mode": {
    "name": "ipython",
    "version": 3
   },
   "file_extension": ".py",
   "mimetype": "text/x-python",
   "name": "python",
   "nbconvert_exporter": "python",
   "pygments_lexer": "ipython3",
   "version": "3.9.12"
  }
 },
 "nbformat": 4,
 "nbformat_minor": 5
}
