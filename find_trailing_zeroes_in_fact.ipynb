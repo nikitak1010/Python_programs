{
 "cells": [
  {
   "cell_type": "code",
   "execution_count": 1,
   "id": "c74cb0e0",
   "metadata": {},
   "outputs": [
    {
     "name": "stdout",
     "output_type": "stream",
     "text": [
      "Enter a number:10\n",
      "Factorial of a number: 3628800\n",
      "no. of trailing zeroes in factorial= 2\n"
     ]
    }
   ],
   "source": [
    "def reverse():\n",
    "    my_num=input(\"Enter a number:\")\n",
    "    num=int(my_num)\n",
    "    fact=1\n",
    "    count=0\n",
    "    rev=\"\"\n",
    "    for item in range(num,0,-1):\n",
    "        fact=fact*item\n",
    "    print(\"Factorial of a number:\",fact)\n",
    "    fact_str=str(fact)\n",
    "    for i in fact_str:\n",
    "        rev=i+rev\n",
    "    for i in rev:\n",
    "        if(i=='0'):\n",
    "            count=count+1\n",
    "        else:\n",
    "            break\n",
    "    print(\"no. of trailing zeroes in factorial=\",count)\n",
    "reverse()"
   ]
  }
 ],
 "metadata": {
  "kernelspec": {
   "display_name": "Python 3 (ipykernel)",
   "language": "python",
   "name": "python3"
  },
  "language_info": {
   "codemirror_mode": {
    "name": "ipython",
    "version": 3
   },
   "file_extension": ".py",
   "mimetype": "text/x-python",
   "name": "python",
   "nbconvert_exporter": "python",
   "pygments_lexer": "ipython3",
   "version": "3.9.12"
  }
 },
 "nbformat": 4,
 "nbformat_minor": 5
}
