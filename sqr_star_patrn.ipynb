{
 "cells": [
  {
   "cell_type": "code",
   "execution_count": 1,
   "id": "da69e8b1",
   "metadata": {},
   "outputs": [
    {
     "name": "stdout",
     "output_type": "stream",
     "text": [
      "Enter max no. of stars:5\n",
      " \n",
      "* * * * *  \n",
      "*       *  \n",
      "*       *  \n",
      "*       *  \n",
      "* * * * * "
     ]
    }
   ],
   "source": [
    "usr_inp=input(\"Enter max no. of stars:\")\n",
    "star=int(usr_inp)\n",
    "for item in range(0,star):\n",
    "    print(\" \")\n",
    "    for st_ar in range(0,star):\n",
    "        if item==0 or item==star-1:\n",
    "            print(\"*\",end=\" \")\n",
    "        elif st_ar==0 or st_ar==star-1:\n",
    "            print(\"*\",end=\" \")\n",
    "        else: \n",
    "            print(\" \",end=\" \")"
   ]
  }
 ],
 "metadata": {
  "kernelspec": {
   "display_name": "Python 3 (ipykernel)",
   "language": "python",
   "name": "python3"
  },
  "language_info": {
   "codemirror_mode": {
    "name": "ipython",
    "version": 3
   },
   "file_extension": ".py",
   "mimetype": "text/x-python",
   "name": "python",
   "nbconvert_exporter": "python",
   "pygments_lexer": "ipython3",
   "version": "3.9.12"
  }
 },
 "nbformat": 4,
 "nbformat_minor": 5
}
